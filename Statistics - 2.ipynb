{
 "cells": [
  {
   "cell_type": "markdown",
   "metadata": {},
   "source": [
    "Problem Statement 1:\n",
    "In each of the following situations, state whether it is a correctly stated hypothesis testing problem and why?\n",
    "1.𝐻0: 𝜇 = 25, 𝐻1: 𝜇 ≠ 25 \n",
    "2.𝐻0: 𝜎 > 10, 𝐻1: 𝜎 = 10 \n",
    "3.𝐻0: 𝑥 = 50, 𝐻1: 𝑥 ≠ 50 \n",
    "4.𝐻0: 𝑝 = 0.1, 𝐻1: 𝑝 = 0.5 \n",
    "5.𝐻0: 𝑠 = 30, 𝐻1: 𝑠 > 30"
   ]
  },
  {
   "cell_type": "markdown",
   "metadata": {},
   "source": [
    "1.Correct, Null hypothesis always have equal to & it is with respect to mean here\n",
    "2.Not correct, it doesnot denote equals for null hypothesis\n",
    "3.Not correct, generally we prove for population from sample (correct if x bar is not sample mean but just symbol)\n",
    "4.Not correct, alternative hypothesis should be not equal to null hypothesis value; here value is different\n",
    "5.Subjective & not correct, we never consider sample for hypothesis"
   ]
  },
  {
   "cell_type": "markdown",
   "metadata": {},
   "source": [
    "Problem Statement 2:\n",
    "The college bookstore tells prospective students that the average cost of its textbooks is Rs. 52 with a standard deviation of Rs. 4.50. A group of smart statistics students thinks that the average cost is higher. To test the bookstore’s claim against their alternative, the students will select a random sample of size 100. Assume that the mean from their random sample is Rs. 52.80. Perform a hypothesis test at the 5% level of significance and state your decision."
   ]
  },
  {
   "cell_type": "code",
   "execution_count": 1,
   "metadata": {},
   "outputs": [],
   "source": [
    "import numpy as np\n",
    "import pandas as pd\n",
    "from scipy.stats import binom\n",
    "import scipy.stats as stat\n",
    "import math"
   ]
  },
  {
   "cell_type": "code",
   "execution_count": 2,
   "metadata": {},
   "outputs": [
    {
     "data": {
      "text/plain": [
       "1.7777777777777715"
      ]
     },
     "execution_count": 2,
     "metadata": {},
     "output_type": "execute_result"
    }
   ],
   "source": [
    "# need to define null & alternative hypothesis\n",
    "# H0: Average book cost is equal 52\n",
    "# H1: Average book cost is not equal 52\n",
    "MeanP =52 # Polupation mean\n",
    "MeanS = 52.8 #sample mean\n",
    "sampl =100 #sample size\n",
    "sigS = 4.5/math.sqrt(sampl) #Std. deviation of sample\n",
    "z_book = (MeanS - MeanP)/sigS\n",
    "z_book"
   ]
  },
  {
   "cell_type": "code",
   "execution_count": 3,
   "metadata": {},
   "outputs": [
    {
     "data": {
      "text/plain": [
       "0.03839999999999999"
      ]
     },
     "execution_count": 3,
     "metadata": {},
     "output_type": "execute_result"
    }
   ],
   "source": [
    "# find probability of z_book score on z score table & it's 1.77\n",
    "zbook_prob=1-0.9616\n",
    "zbook_prob"
   ]
  },
  {
   "cell_type": "markdown",
   "metadata": {},
   "source": [
    "which is less than 0.05 so we fail to reject null hypothesis"
   ]
  },
  {
   "cell_type": "markdown",
   "metadata": {},
   "source": [
    "Problem Statement 3:\n",
    "A certain chemical pollutant in the Genesee River has been constant for several years with mean μ = 34 ppm (parts per million) and standard deviation σ = 8 ppm. A group of factory representatives whose companies discharge liquids into the river is now claiming that they have lowered the average with improved filtration devices. A group of environmentalists will test to see if this is true at the 1% level of significance. Assume \\ that their sample of size 50 gives a mean of 32.5 ppm. Perform a hypothesis test at the 1% level of significance and state your decision."
   ]
  },
  {
   "cell_type": "code",
   "execution_count": 4,
   "metadata": {},
   "outputs": [
    {
     "name": "stdout",
     "output_type": "stream",
     "text": [
      "1.3258252147247767\n"
     ]
    },
    {
     "data": {
      "text/plain": [
       "0.09179999999999999"
      ]
     },
     "execution_count": 4,
     "metadata": {},
     "output_type": "execute_result"
    }
   ],
   "source": [
    "#Ho: Improved Filteration gives pollutant = 34ppm\n",
    "#H1: Improved Filteration gives pollutant != 34ppm\n",
    "Mupoll = 34 #population mean\n",
    "Sigpoll =8  # population std. dev.\n",
    "npoll = 50  # sample size\n",
    "xbarpoll = 32.5 # sample mean\n",
    "\n",
    "#Cals std. dev of sample\n",
    "SigpollS = Sigpoll/math.sqrt(npoll)\n",
    "\n",
    "# Calc Z score\n",
    "z_poll_score = (Mupoll-xbarpoll)/SigpollS\n",
    "print(z_poll_score) # z score is 1.33\n",
    "probPoll = 1-0.9082 # prob at zscore 1.33 is 0.9082\n",
    "probPoll"
   ]
  },
  {
   "cell_type": "markdown",
   "metadata": {},
   "source": [
    "The value is 9% (which is greater than 1%) & we can reject null hypothesis. Means filteration improve pollutant in river"
   ]
  },
  {
   "cell_type": "markdown",
   "metadata": {},
   "source": [
    "Problem Statement 4:\n",
    "Based on population figures and other general information on the U.S. population, suppose it has been estimated that, on average, a family of four in the U.S. spends about $1135 annually on dental expenditures. Suppose further that a regional dental association wants to test to determine if this figure is accurate for their area of country. To test this, 22 families of 4 are randomly selected from the population in that area of the country and a log is kept of the family’s dental expenditure for one year. The resulting data are given below. Assuming, that dental expenditure is normally distributed in the population, use the data and an alpha of 0.5 to test the dental association’s hypothesis.\n",
    "1008, 812, 1117, 1323, 1308, 1415, 831, 1021, 1287, 851, 930, 730, 699, 872, 913, 944, 954, 987, 1695, 995, 1003, 994"
   ]
  },
  {
   "cell_type": "code",
   "execution_count": 5,
   "metadata": {},
   "outputs": [
    {
     "name": "stdout",
     "output_type": "stream",
     "text": [
      "2.070747228595759\n"
     ]
    }
   ],
   "source": [
    "# Ho: Family of 4 spends on dental =1135\n",
    "# H1: Family of 4 spends on dental !=1135\n",
    "\n",
    "MuDnt = 1135 # Polulation mean\n",
    "DntS = [1008, 812, 1117, 1323, 1308, 1415, 831, 1021, 1287, 851, 930, 730, 699, 872, 913, 944, 954, 987, 1695, 995, 1003, 994]\n",
    "nDnt = 22 # Sample for family of 4\n",
    "\n",
    "xbarDnt = np.mean(DntS)\n",
    "SigmaDnt =  np.std(DntS)# (DntS-xbarDnt)**2/(nDnt-1) we will assume sample std. dev as polulation std. dev\n",
    "SDnt = SigmaDnt/math.sqrt(nDnt)\n",
    "\n",
    "# t score\n",
    "t_Dnt = (MuDnt - xbarDnt)/SDnt\n",
    "print(t_Dnt)\n",
    "\n",
    "# here sample is <30 so find tscore for df = 21 & for p=0.5 which is 2.08"
   ]
  },
  {
   "cell_type": "markdown",
   "metadata": {},
   "source": [
    "T score is gives confidence & we fail to reject null hypothesis. So average spend for family of 4 are $1135"
   ]
  },
  {
   "cell_type": "markdown",
   "metadata": {},
   "source": [
    "Problem Statement 5:\n",
    "In a report prepared by the Economic Research Department of a major bank the Department manager maintains that the average annual family income on Metropolis is $48,432. What do you conclude about the validity of the report if a random sample of 400 families shows and average income of $48,574 with a standard deviation of 2000?"
   ]
  },
  {
   "cell_type": "code",
   "execution_count": 6,
   "metadata": {},
   "outputs": [
    {
     "name": "stdout",
     "output_type": "stream",
     "text": [
      "-1.42\n"
     ]
    }
   ],
   "source": [
    "# Ho: Average salary in Metropolis = 48432\n",
    "# H1: Average salary in Metropolis != 48432\n",
    "MuSal = 48432   # population mean\n",
    "xbarSal = 48574 #sample mean\n",
    "nSal = 400      #sample size\n",
    "SSal = 2000     #Sample std. dev\n",
    "\n",
    "# We assume sample std. dev as population std. dev\n",
    "SigSal = SSal/math.sqrt(nSal)\n",
    "z_sal = (MuSal - xbarSal)/SigSal\n",
    "print(z_sal)\n",
    "\n",
    "#z score for -1.42 is 0.0778"
   ]
  },
  {
   "cell_type": "markdown",
   "metadata": {},
   "source": [
    "If we assume if we assume probability of 5% level of significance then here what we get for null hypothesis is 0.7 & so we reject null hypothesis. Wich means average salary in Metropolis may higher"
   ]
  },
  {
   "cell_type": "markdown",
   "metadata": {},
   "source": [
    "Problem Statement 6:\n",
    "Suppose that in past years the average price per square foot for warehouses in the United States has been $32.28. A national real estate investor wants to determine whether that figure has changed now. The investor hires a researcher who randomly samples 19 warehouses that are for sale across the United States and finds that the mean price per square foot is $31.67, with a standard deviation of $1.29. assume that the prices of warehouse footage are normally distributed in population. If the researcher uses a 5% level of significance, what statistical conclusion can be reached? What are the hypotheses?"
   ]
  },
  {
   "cell_type": "code",
   "execution_count": 7,
   "metadata": {},
   "outputs": [
    {
     "name": "stdout",
     "output_type": "stream",
     "text": [
      "2.06118477175179\n"
     ]
    }
   ],
   "source": [
    "#Ho : Avg per sq-ft price of ware house = 32.28\n",
    "#H1 : Avg per sq-ft price of ware house != 32.28\n",
    "MuWr = 32.28\n",
    "xbarWr = 31.67\n",
    "nWr = 19\n",
    "Swr = 1.29\n",
    "\n",
    "# We assume sample std. dev as population std. dev\n",
    "\n",
    "t_Wr = (MuWr - xbarWr)/(Swr/math.sqrt(nWr))\n",
    "print(t_Wr)\n",
    "\n",
    "# tscore of 2.06 for df=18 is b/w confidence level of 0.1 & 0.05 which is > 0.05"
   ]
  },
  {
   "cell_type": "markdown",
   "metadata": {},
   "source": [
    "we reject null hypothesis so alternet is correct, so price per-sqft for warehouse are 31.67"
   ]
  },
  {
   "cell_type": "markdown",
   "metadata": {},
   "source": [
    "Problem Statement 7: Rahul said calrify with team\n",
    "Fill in the blank spaces in the table and draw your conclusions from it. \n",
    "\n",
    "i) Acceptance region 48.5 < x < 51.5"
   ]
  },
  {
   "cell_type": "code",
   "execution_count": 8,
   "metadata": {},
   "outputs": [
    {
     "name": "stdout",
     "output_type": "stream",
     "text": [
      "-4.427188724235731\n",
      "-0.6324555320336759\n"
     ]
    },
    {
     "data": {
      "text/plain": [
       "0.2643"
      ]
     },
     "execution_count": 8,
     "metadata": {},
     "output_type": "execute_result"
    }
   ],
   "source": [
    "# Calculate Beta at Mu1 = 52\n",
    "n1 = 10\n",
    "Sig =2.5\n",
    "Mu1 =52\n",
    "\n",
    "p11 = (48.5 - Mu1)/(Sig/math.sqrt(n1))\n",
    "print(p11)\n",
    "p12 = (51.5 - Mu1)/(Sig/math.sqrt(n1))\n",
    "print(p12)\n",
    "\n",
    "# As p12 > p11, so our z score lies in between these two p12 < z < p11.\n",
    "# Find probability at these z score\n",
    "P11 = 0\n",
    "P12 = 0.2643\n",
    "# now Beta = p12 - p11\n",
    "Beta11 = P12 - P11\n",
    "Beta11"
   ]
  },
  {
   "cell_type": "code",
   "execution_count": 9,
   "metadata": {},
   "outputs": [
    {
     "name": "stdout",
     "output_type": "stream",
     "text": [
      "-2.5298221281347035\n",
      "1.2649110640673518\n"
     ]
    },
    {
     "data": {
      "text/plain": [
       "0.1095"
      ]
     },
     "execution_count": 9,
     "metadata": {},
     "output_type": "execute_result"
    }
   ],
   "source": [
    "# Calculate Beta at Mu2 = 50.5\n",
    "n1 = 10\n",
    "Sig =2.5\n",
    "Mu2 =50.5\n",
    "\n",
    "p13 = (48.5 - Mu2)/(Sig/math.sqrt(n1))\n",
    "print(p13)\n",
    "p14 = (51.5 - Mu2)/(Sig/math.sqrt(n1))\n",
    "print(p14)\n",
    "\n",
    "# so our z score lies in between these two p13 < z < p14.\n",
    "# Find probability at these z score\n",
    "P13 = 0.0057\n",
    "P14 = 0.8962\n",
    "# now Beta = p13 +(1 - p14)\n",
    "Beta12 = P13 +(1- P14)\n",
    "Beta12"
   ]
  },
  {
   "cell_type": "markdown",
   "metadata": {},
   "source": [
    "ii) 48 < x < 51"
   ]
  },
  {
   "cell_type": "code",
   "execution_count": 10,
   "metadata": {},
   "outputs": [
    {
     "name": "stdout",
     "output_type": "stream",
     "text": [
      "-5.059644256269407\n",
      "-1.2649110640673518\n"
     ]
    },
    {
     "data": {
      "text/plain": [
       "0.1038"
      ]
     },
     "execution_count": 10,
     "metadata": {},
     "output_type": "execute_result"
    }
   ],
   "source": [
    "# Calculate Beta at Mu1 = 52\n",
    "n2 = 10\n",
    "Sig =2.5\n",
    "Mu1 =52\n",
    "\n",
    "p21 = (48.0 - Mu1)/(Sig/math.sqrt(n2))\n",
    "print(p21)\n",
    "p22 = (51.0 - Mu1)/(Sig/math.sqrt(n2))\n",
    "print(p22)\n",
    "\n",
    "# As p22 > p21, so our z score lies in between these two p22 < z < p21.\n",
    "# Find probability at these z score\n",
    "P21 = 0\n",
    "P22 = 0.1038\n",
    "# now Beta = p22 - p21\n",
    "Beta21 = P22 - P21\n",
    "Beta21"
   ]
  },
  {
   "cell_type": "code",
   "execution_count": 11,
   "metadata": {},
   "outputs": [
    {
     "name": "stdout",
     "output_type": "stream",
     "text": [
      "-3.1622776601683795\n",
      "0.6324555320336759\n"
     ]
    },
    {
     "data": {
      "text/plain": [
       "0.2651"
      ]
     },
     "execution_count": 11,
     "metadata": {},
     "output_type": "execute_result"
    }
   ],
   "source": [
    "# Calculate Beta at Mu2 = 50.5\n",
    "n2 = 10\n",
    "Sig =2.5\n",
    "Mu2 =50.5\n",
    "\n",
    "p23 = (48 - Mu2)/(Sig/math.sqrt(n2))\n",
    "print(p23)\n",
    "p24 = (51 - Mu2)/(Sig/math.sqrt(n2))\n",
    "print(p24)\n",
    "\n",
    "# so our z score lies in between these two p13 < z < p14.\n",
    "# Find probability at these z score\n",
    "P23 = 0.0008\n",
    "P24 = 0.7357\n",
    "# now Beta = p13 +(1 - p14)\n",
    "Beta22 = P23 +(1- P24)\n",
    "Beta22"
   ]
  },
  {
   "cell_type": "markdown",
   "metadata": {},
   "source": [
    "iii) 48.81 < x < 51.9"
   ]
  },
  {
   "cell_type": "code",
   "execution_count": 12,
   "metadata": {},
   "outputs": [
    {
     "name": "stdout",
     "output_type": "stream",
     "text": [
      "-5.1039999999999965\n",
      "-0.16000000000000228\n"
     ]
    },
    {
     "data": {
      "text/plain": [
       "0.4364"
      ]
     },
     "execution_count": 12,
     "metadata": {},
     "output_type": "execute_result"
    }
   ],
   "source": [
    "# Calculate Beta at Mu1 = 52\n",
    "n3 = 16\n",
    "Sig =2.5\n",
    "Mu1 =52\n",
    "\n",
    "p31 = (48.81 - Mu1)/(Sig/math.sqrt(n3))\n",
    "print(p31)\n",
    "p32 = (51.9 - Mu1)/(Sig/math.sqrt(n3))\n",
    "print(p32)\n",
    "\n",
    "# so our z score lies in between these two p31 < z < p32.\n",
    "# Find probability at these z score\n",
    "P31 = 0.4364\n",
    "P32 = 0\n",
    "# now Beta = p31 - p32\n",
    "Beta31 = P31 - P32\n",
    "Beta31"
   ]
  },
  {
   "cell_type": "code",
   "execution_count": 13,
   "metadata": {},
   "outputs": [
    {
     "name": "stdout",
     "output_type": "stream",
     "text": [
      "-2.703999999999996\n",
      "2.2399999999999975\n"
     ]
    },
    {
     "data": {
      "text/plain": [
       "0.015700000000000047"
      ]
     },
     "execution_count": 13,
     "metadata": {},
     "output_type": "execute_result"
    }
   ],
   "source": [
    "# Calculate Beta at Mu2 = 50.5\n",
    "n3 = 16\n",
    "Sig =2.5\n",
    "Mu2 =50.5\n",
    "\n",
    "p33 = (48.81 - Mu2)/(Sig/math.sqrt(n3))\n",
    "print(p33)\n",
    "p34 = (51.9 - Mu2)/(Sig/math.sqrt(n3))\n",
    "print(p34)\n",
    "\n",
    "# so our z score lies in between these two p33 < z < 1- p34.\n",
    "# Find probability at these z score\n",
    "P33 = 0.0032\n",
    "P34 = 0.9875\n",
    "# now Beta = P33 + 1- P34\n",
    "Beta32 = P33 +1 - P34\n",
    "Beta32"
   ]
  },
  {
   "cell_type": "markdown",
   "metadata": {},
   "source": [
    "iv) 48.42 <x < 51.58"
   ]
  },
  {
   "cell_type": "code",
   "execution_count": 15,
   "metadata": {},
   "outputs": [
    {
     "name": "stdout",
     "output_type": "stream",
     "text": [
      "-5.727999999999997\n",
      "-0.6720000000000027\n"
     ]
    },
    {
     "data": {
      "text/plain": [
       "0.2514"
      ]
     },
     "execution_count": 15,
     "metadata": {},
     "output_type": "execute_result"
    }
   ],
   "source": [
    "# Calculate Beta at Mu1 = 52\n",
    "n4 = 16\n",
    "Sig =2.5\n",
    "Mu1 =52\n",
    "\n",
    "p41 = (48.42 - Mu1)/(Sig/math.sqrt(n4))\n",
    "print(p41)\n",
    "p42 = (51.58 - Mu1)/(Sig/math.sqrt(n4))\n",
    "print(p42)\n",
    "\n",
    "# As P42> P41, so our z score lies in between these two p42 < z < p41.\n",
    "# Find probability at these z score\n",
    "P41 = 0.0\n",
    "P42 = 0.2514\n",
    "# now Beta = p31 - p32\n",
    "Beta41 = P42 - P41\n",
    "Beta41"
   ]
  },
  {
   "cell_type": "code",
   "execution_count": 16,
   "metadata": {},
   "outputs": [
    {
     "name": "stdout",
     "output_type": "stream",
     "text": [
      "-2.703999999999996\n",
      "2.2399999999999975\n"
     ]
    },
    {
     "data": {
      "text/plain": [
       "0.015999999999999955"
      ]
     },
     "execution_count": 16,
     "metadata": {},
     "output_type": "execute_result"
    }
   ],
   "source": [
    "# Calculate Beta at Mu2 = 50.5\n",
    "n4 = 16\n",
    "Sig =2.5\n",
    "Mu2 =50.5\n",
    "\n",
    "p43 = (48.42 - Mu2)/(Sig/math.sqrt(n4))\n",
    "print(p33)\n",
    "p44 = (51.58 - Mu2)/(Sig/math.sqrt(n4))\n",
    "print(p34)\n",
    "\n",
    "# so our z score lies in between these two p33 < z < 1- p34.\n",
    "# Find probability at these z score\n",
    "P43 = 0.0035\n",
    "P44 = 0.9875\n",
    "# now Beta = P43 + 1- P44\n",
    "Beta42 = P43 +(1 - P44)\n",
    "Beta42"
   ]
  },
  {
   "cell_type": "markdown",
   "metadata": {},
   "source": [
    "Problem Statement 8:\n",
    "Find the t-score for a sample size of 16 taken from a population with mean 10 when the sample mean is 12 and the sample standard deviation is 1.5."
   ]
  },
  {
   "cell_type": "code",
   "execution_count": 17,
   "metadata": {},
   "outputs": [
    {
     "name": "stdout",
     "output_type": "stream",
     "text": [
      "-5.333333333333333\n"
     ]
    }
   ],
   "source": [
    "nSmpl = 16\n",
    "Mupop = 10\n",
    "x_bar_pop = 12\n",
    "s_pop = 1.5\n",
    "\n",
    "StdPop = s_pop/math.sqrt(nSmpl) # assume sample std. dev as population std. dev\n",
    "t_Score_pop = (Mupop - x_bar_pop)/StdPop\n",
    "\n",
    "print(t_Score_pop)"
   ]
  },
  {
   "cell_type": "markdown",
   "metadata": {},
   "source": [
    "Problem Statement 9:\n",
    "Find the t-score below which we can expect 99% of sample means will fall if samples of size 16 are taken from a normally distributed population."
   ]
  },
  {
   "cell_type": "code",
   "execution_count": 18,
   "metadata": {},
   "outputs": [],
   "source": [
    "#t score for Confidense level 99% need to be found\n",
    "df = 15  # degreed of freedonw n-1\n",
    "\n",
    "# find t-score for df=15 & confidence 99%\n",
    "t_99_conf = + - 2.603"
   ]
  },
  {
   "cell_type": "markdown",
   "metadata": {},
   "source": [
    "Problem Statement 10:\n",
    "If a random sample of size 25 drawn from a normal population gives a mean of 60 and a standard deviation of 4, find the range of t-scores where we can expect to find the middle 95% of all sample means. Compute the probability that (−𝑡0.05 <𝑡<𝑡0.10)."
   ]
  },
  {
   "cell_type": "code",
   "execution_count": 19,
   "metadata": {},
   "outputs": [],
   "source": [
    "ns=25\n",
    "x_bar_s=60\n",
    "s_s = 4\n",
    "\n",
    "# find df & then value for that df & confidence point for 95%\n",
    "df =24\n",
    "\n",
    "t_S_score = + - 1.711"
   ]
  },
  {
   "cell_type": "markdown",
   "metadata": {},
   "source": [
    "Problem Statement 11:\n",
    "Two-tailed test for difference between two population means:\n",
    "Is there evidence to conclude that the number of people travelling from Bangalore to Chennai is different from the number of people travelling from Bangalore to Hosur in a week, given the following:\n",
    "Population 1: Bangalore to Chennai\n",
    "n1 = 1200\n",
    "x1 = 452\n",
    "s1 = 212\n",
    "Population 2: Bangalore to Hosur\n",
    "n2 = 800\n",
    "x2 = 523\n",
    "s2 = 185"
   ]
  },
  {
   "cell_type": "code",
   "execution_count": 20,
   "metadata": {},
   "outputs": [
    {
     "name": "stdout",
     "output_type": "stream",
     "text": [
      "Mean Differece =  -71\n",
      "Distance from Meanfor 95% confidence =  14.77967026442065\n"
     ]
    }
   ],
   "source": [
    "#Ho: Number of people travel are equal (x1-x2=0)\n",
    "#H1: Number of people travel are not equal & x1 is higher (x1-x2 >0)  \n",
    "n1=1200\n",
    "n2=800\n",
    "x1=452\n",
    "x2=523\n",
    "s1=212\n",
    "s2=185\n",
    "import scipy.stats as stat\n",
    "\n",
    "DiffX=x1-x2\n",
    "print(\"Mean Differece = \", DiffX)\n",
    "#assume significance level is 0.05% & find z critical for 95% confidence\n",
    "# assume two tail-t test z score for that is 1.65\n",
    "z_critc = 1.65 # Distance from Mu to 95% confidence interval\n",
    "\n",
    "Sigx1_x2 = math.sqrt((s1**2/n1)+(s2**2/n2))\n",
    "Dist_x1x2 = z_critc*Sigx1_x2\n",
    "print(\"Distance from Meanfor 95% confidence = \",Dist_x1x2)"
   ]
  },
  {
   "cell_type": "markdown",
   "metadata": {},
   "source": [
    "95% confidence interval distance of 14.78 from Mu. But the value of Mean difference we got is -71 which lies much far from Mu. So it's in area <0.05% confidence. So we can reject the null hypothesis & accept H1. so people travel Bangalore to Chennai are not equal"
   ]
  },
  {
   "cell_type": "markdown",
   "metadata": {},
   "source": [
    "Problem Statement 12:¶ \n",
    "Is there evidence to conclude that the number of people preferring Duracell battery is different from the number of people preferring Energizer battery, given the following: Population 1: Duracell\n",
    "n1 = 100\n",
    "x1 = 308\n",
    "s1 = 84\n",
    "Population 2: Energizer\n",
    "n2 = 100\n",
    "x2 = 254\n",
    "s2 = 67"
   ]
  },
  {
   "cell_type": "code",
   "execution_count": 21,
   "metadata": {},
   "outputs": [
    {
     "name": "stdout",
     "output_type": "stream",
     "text": [
      "Mean Differece =  54\n",
      "Dist from mean for 95% confidence =  17.72886417681629\n"
     ]
    }
   ],
   "source": [
    "#Ho: Number of people prefer Duracell & Energizer are equal (x1-x2=0)\n",
    "#H1: Number of people prefer Duracell & Energizer are not equal & x1 is higher (x1-x2 >0)  \n",
    "nc1=100\n",
    "nc2=100\n",
    "xc1=308\n",
    "xc2=254\n",
    "sc1=84\n",
    "sc2=67\n",
    "\n",
    "DiffXc=xc1-xc2\n",
    "print(\"Mean Differece = \",DiffXc)\n",
    "#assume significance level is 0.05% & find z critical for 95% confidence\n",
    "# assume two tail-t test z score for that is 1.65\n",
    "z_Ccritc = 1.65 # Distance from Mu to 95% confidence interval\n",
    "\n",
    "Sigxc1_xc2 = math.sqrt((sc2**2/nc2)+(sc1**2/nc1))\n",
    "Dist_cx1x2 = z_Ccritc*Sigxc1_xc2\n",
    "print(\"Dist from mean for 95% confidence = \",Dist_cx1x2)"
   ]
  },
  {
   "cell_type": "markdown",
   "metadata": {},
   "source": [
    "95% confidsence interval distance of 2.03 from Mu. But the value of Mean difference we got is 54 which lies much far from Mu. So it's in area <5% confidence. So we can reject the null hypothesis & accept H1."
   ]
  },
  {
   "cell_type": "markdown",
   "metadata": {},
   "source": [
    "Problem Statement 13:\n",
    "Pooled estimate of the population variance Does the data provide sufficient evidence to conclude that average percentage increase in the price of sugar differs when it is sold at two different prices?\n",
    "Population 1: Price of sugar = Rs. 27.50\n",
    "n1 = 14 x1 = 0.317% s1 = 0.12%\n",
    "Population 2: Price of sugar = Rs. 20.00\n",
    "n2 = 9 x2 = 0.21% s2 = 0.11%"
   ]
  },
  {
   "cell_type": "code",
   "execution_count": 22,
   "metadata": {},
   "outputs": [
    {
     "name": "stdout",
     "output_type": "stream",
     "text": [
      "Mean Differece =  0.10700000000000001\n",
      "Distacne from mean for 95% confidence =  0.08037745774958122\n"
     ]
    }
   ],
   "source": [
    "#Ho: Sugar price % increase is zero (x1-x2=0)\n",
    "#H1: Sugar price % increase is not zero (x1-x2 >0)  \n",
    "ns1=14\n",
    "ns2=9\n",
    "xs1=0.317\n",
    "xs2=0.21\n",
    "ss1=0.12\n",
    "ss2=0.11\n",
    "\n",
    "DiffXs=xs1-xs2\n",
    "print(\"Mean Differece = \",DiffXs)\n",
    "#assume significance level is 0.05% & find z critical for 95% confidence\n",
    "# assume two tail-t test z score for that is 1.65\n",
    "z_Scritc = 1.65 # Distance from Mu to 95% confidence interval\n",
    "\n",
    "Sigxs1_xs2 = math.sqrt((ss2**2/ns2)+(ss1**2/ns1))\n",
    "Dist_sx1x2 = z_Scritc*Sigxs1_xs2\n",
    "print(\"Distacne from mean for 95% confidence = \",Dist_sx1x2)"
   ]
  },
  {
   "cell_type": "markdown",
   "metadata": {},
   "source": [
    "95% confidsence interval distance of 0.08 from Mu. But the value of Mean difference we got is 0.11 which higher. So it's in area of 5% confidence. So we can reject the null hypothesis & so average percentage increase in the price of sugar has effect when it sold at two different prices."
   ]
  },
  {
   "cell_type": "markdown",
   "metadata": {},
   "source": [
    "Problem Statement 14: The manufacturers of compact disk players want to test whether a small price reduction is enough to increase sales of their product. Is there evidence that the small price reduction is enough to increase sales of compact disk players?\n",
    "Population 1: Before reduction\n",
    "n1 = 15 x1 = Rs. 6598 s1 = Rs. 844\n",
    "Population 2: After reduction\n",
    "n2 = 12 x2 = RS. 6870 s2 = Rs. 669"
   ]
  },
  {
   "cell_type": "code",
   "execution_count": 23,
   "metadata": {},
   "outputs": [
    {
     "name": "stdout",
     "output_type": "stream",
     "text": [
      "Mean Differece =  -272\n",
      "Distacne from mean for 95% confidence =  480.44706875471724\n"
     ]
    }
   ],
   "source": [
    "#Ho: Sales difference due to price change is zero (x1-x2=0)\n",
    "#H1: Sales difference due to price change is not zero (x1-x2 >0)  \n",
    "npl1=15\n",
    "npl2=12\n",
    "xpl1=6598\n",
    "xpl2=6870\n",
    "spl1=844\n",
    "spl2=669\n",
    "\n",
    "DiffXpl=xpl1-xpl2\n",
    "print(\"Mean Differece = \",DiffXpl)\n",
    "#assume significance level is 0.05% & find z critical for 95% confidence\n",
    "# assume two tail-t test z score for that is 1.65\n",
    "z_Plcritc = 1.65 # Distance from Mu to 95% confidence interval\n",
    "\n",
    "Sigxpl1_xpl2 = math.sqrt((spl2**2/npl2)+(spl1**2/npl1))\n",
    "Dist_plx1x2 = z_Plcritc*Sigxpl1_xpl2\n",
    "print(\"Distacne from mean for 95% confidence = \",Dist_plx1x2)"
   ]
  },
  {
   "cell_type": "markdown",
   "metadata": {},
   "source": [
    "95% confidence interval distance of 480 from Mu. But the value of Mean difference we got is -272 which lower & within 95% area. So we failed to reject the null hypothesis & so compact disc prise difference have no effect on sale of disc player."
   ]
  },
  {
   "cell_type": "markdown",
   "metadata": {},
   "source": [
    "Problem Statement 15:\n",
    "Comparisons of two population proportions when the hypothesized difference is zero. Carry out a two-tailed test of the equality of banks’ share of the car loan market in 1980 and 1995.\n",
    "Population 1: 1980\n",
    "n1 = 1000 x1 = 53 𝑝 1 = 0.53\n",
    "Population 2: 1985\n",
    "n2 = 100 x2 = 43 𝑝 2= 0.53"
   ]
  },
  {
   "cell_type": "code",
   "execution_count": 24,
   "metadata": {},
   "outputs": [
    {
     "name": "stdout",
     "output_type": "stream",
     "text": [
      "Mean Differece =  0\n",
      "Distacne from mean for 95% confidence =  0.09171833377247976\n"
     ]
    }
   ],
   "source": [
    "#Ho: Car loan market share is equal (x1-x2=0)\n",
    "#H1: Car loan market share is not equal (x1-x2 >0)  \n",
    "nl1=1000\n",
    "nl2=100\n",
    "xl1=53\n",
    "xl2=53\n",
    "sl1=0.53\n",
    "sl2=0.53\n",
    "\n",
    "DiffXl=xl1-xl2\n",
    "print(\"Mean Differece = \",DiffXl)\n",
    "#assume significance level is 0.05% & find z critical for 95% confidence\n",
    "# assume two tail-t test z score for that is 1.65\n",
    "z_Llcritc = 1.65 # Distance from Mu to 95% confidence interval\n",
    "\n",
    "Sigxl1_xl2 = math.sqrt((sl2**2/nl2)+(sl1**2/nl1))\n",
    "Dist_lx1x2 = z_Llcritc*Sigxl1_xl2\n",
    "print(\"Distacne from mean for 95% confidence = \",Dist_lx1x2)"
   ]
  },
  {
   "cell_type": "markdown",
   "metadata": {},
   "source": [
    "95% confidence interval distance of 0.09 from Mu. But the value of Mean difference we got is 0 which lower & within 95% area. So we failed to reject the null hypothesis & so car loan share of bank is not equal."
   ]
  },
  {
   "cell_type": "markdown",
   "metadata": {},
   "source": [
    "Problem Statement 16:\n",
    "Carry out a one-tailed test to determine whether the population proportion of traveler’s check buyers who buy at least $2500 in checks when sweepstakes prizes are offered as at least 10% higher than the proportion of such buyers when no sweepstakes are on.\n",
    "Population 1: With sweepstakes\n",
    "n1 = 300 x1 = 120 𝑝 = 0.40\n",
    "Population 2: No sweepstakes\n",
    "n2 = 700 x2 = 140 𝑝 2= 0.20"
   ]
  },
  {
   "cell_type": "code",
   "execution_count": 25,
   "metadata": {},
   "outputs": [
    {
     "name": "stdout",
     "output_type": "stream",
     "text": [
      "Mean Differece =  -20\n",
      "Distacne from mean for 95% confidence =  0.04009453115540109\n"
     ]
    }
   ],
   "source": [
    "#Ho: Checks buyer are equal respective of sweepstakes (x1-x2=0)\n",
    "#H1: Checks buyer are not equal respective of sweepstakes (x1-x2 >0)  \n",
    "nsw1=300\n",
    "nsw2=700\n",
    "xsw1=120\n",
    "xsw2=140\n",
    "ssw1=0.4\n",
    "ssw2=0.2\n",
    "\n",
    "DiffXsw=xsw1-xsw2\n",
    "print(\"Mean Differece = \",DiffXsw)\n",
    "#assume significance level is 0.05% & find z critical for 95% confidence\n",
    "# assume one tail-t test z score for that is 1.65\n",
    "z_Swcritc = 1.65 # Distance from Mu to 95% confidence interval\n",
    "\n",
    "Sigxsw1_xsw2 = math.sqrt((ssw2**2/nsw2)+(ssw1**2/nsw1))\n",
    "Dist_Swx1x2 = z_Swcritc*Sigxsw1_xsw2\n",
    "print(\"Distacne from mean for 95% confidence = \",Dist_Swx1x2)"
   ]
  },
  {
   "cell_type": "markdown",
   "metadata": {},
   "source": [
    "95% confidence interval distance of 0.04 from Mu. But the value of Mean difference we got is -20 which is within 5% area. So we can reject the null hypothesis & so sweepstake have impact on but with checks when sweepstakes is on."
   ]
  },
  {
   "cell_type": "markdown",
   "metadata": {},
   "source": [
    "Problem Statement 17:\n",
    "A die is thrown 132 times with the following results:\n",
    "Number turned up: 1, 2, 3, 4, 5, 6 Frequency: 16, 20, 25, 14, 29, 28 Is the die unbiased? Consider the degrees of freedom as 𝑝=1."
   ]
  },
  {
   "cell_type": "code",
   "execution_count": 26,
   "metadata": {},
   "outputs": [
    {
     "name": "stdout",
     "output_type": "stream",
     "text": [
      "2.6666666666666665 3.3333333333333335 4.166666666666667 2.3333333333333335 4.833333333333333 4.666666666666667\n"
     ]
    }
   ],
   "source": [
    "# Probability to get a number on fair die is 1/6\n",
    "# We will find probability of numbers as with frequency\n",
    "\n",
    "Pb1 = 16*1/6 # Probability of getting 1\n",
    "Pb2 = 20*1/6 # Probability of getting 1\n",
    "Pb3 = 25*1/6 # Probability of getting 1\n",
    "Pb4 = 14*1/6 # Probability of getting 1\n",
    "Pb5 = 29*1/6 # Probability of getting 1\n",
    "Pb6 = 28*1/6 # Probability of getting 1\n",
    "\n",
    "print(Pb1, Pb2,Pb3,Pb4,Pb5,Pb6)\n",
    "\n",
    "# Assume confidence level is 95% & significance level is 5%"
   ]
  },
  {
   "cell_type": "markdown",
   "metadata": {},
   "source": [
    "The probability of the number after frequency is lower than 5% so it's fair die"
   ]
  },
  {
   "cell_type": "markdown",
   "metadata": {},
   "source": [
    "Problem Statement 18:\n",
    "In a certain town, there are about one million eligible voters. A simple random sample of 10,000 eligible voters was chosen to study the relationship between gender and participation in the last election. The results are summarized in the following 2X2 (read two by two) contingency table: \n",
    "We would want to check whether being a man or a woman (columns) is independent of having voted in the last election (rows). In other words, is “gender and voting independent”?"
   ]
  },
  {
   "cell_type": "code",
   "execution_count": 28,
   "metadata": {},
   "outputs": [
    {
     "name": "stdout",
     "output_type": "stream",
     "text": [
      "1547.3526\n",
      "2069.6474\n",
      "2730.6474\n",
      "3652.3526\n"
     ]
    },
    {
     "data": {
      "text/plain": [
       "6.660455899328067"
      ]
     },
     "execution_count": 28,
     "metadata": {},
     "output_type": "execute_result"
    }
   ],
   "source": [
    "#Ho: Gender & voting are independent\n",
    "#H1: Gender & voting are dependent\n",
    "\n",
    "#Assume voting is independent of gender & find Expected value for it\n",
    "TotVoted = 2792+3591\n",
    "TotNVoted = 1486+2131\n",
    "TotMen = 2792+1486\n",
    "TotWMen = 3591+2131\n",
    "\n",
    "#Exp Value = (row total * column total)/ Grand total\n",
    "ExpMenVote = (TotVoted* TotMen)/10000\n",
    "ExpWMenVote = (TotVoted* TotWMen)/10000\n",
    "ExpMenNVote = (TotNVoted* TotMen)/10000\n",
    "ExpWMenNVote = (TotNVoted* TotWMen)/10000\n",
    "print(ExpMenNVote)\n",
    "print(ExpWMenNVote)\n",
    "print(ExpMenVote)\n",
    "print(ExpWMenVote)\n",
    "\n",
    "GenderVoteChiSqr = (2792-ExpMenVote)**2/ExpMenVote + (3591 -  ExpWMenVote)**2/ExpWMenVote + (1486 - ExpMenNVote)**2/ExpMenNVote + (2131 - ExpWMenNVote)**2/ExpWMenNVote\n",
    "GenderVoteChiSqr"
   ]
  },
  {
   "cell_type": "markdown",
   "metadata": {},
   "source": [
    "Base on porbability of ChiSquare null hypothesis, we can reject null hypothesis. So voting are dependent of gender"
   ]
  },
  {
   "cell_type": "markdown",
   "metadata": {},
   "source": [
    "Problem Statement 19:\n",
    "A sample of 100 voters are asked which of four candidates they would vote for in an election. The number supporting each candidate is given below:  Do the data suggest that all candidates are equally popular? [Chi-Square = 14.96, with 3 df, 𝑝 0.05 "
   ]
  },
  {
   "cell_type": "code",
   "execution_count": 29,
   "metadata": {},
   "outputs": [
    {
     "data": {
      "text/plain": [
       "14.959999999999999"
      ]
     },
     "execution_count": 29,
     "metadata": {},
     "output_type": "execute_result"
    }
   ],
   "source": [
    "#Ho: Candidates are equally popular\n",
    "#H1: Candidates are not equally popular\n",
    "ExpVal = 100/4\n",
    "Hug = 41\n",
    "Rear = 19\n",
    "White = 24\n",
    "Char = 16\n",
    "ChiSqrPopularity = (Hug-ExpVal)**2/ExpVal +(Rear-ExpVal)**2/ExpVal +(White-ExpVal)**2/ExpVal + (Char-ExpVal)**2/ExpVal\n",
    "ChiSqrPopularity"
   ]
  },
  {
   "cell_type": "markdown",
   "metadata": {},
   "source": [
    "As ChiSqr value greater than 5%, we reject null hypothesis. So Candidates don't have equal popularity"
   ]
  },
  {
   "cell_type": "markdown",
   "metadata": {},
   "source": [
    "Problem Statement 20:\n",
    "Children of three ages are asked to indicate their preference for three photographs of adults. Do the data suggest that there is a significant relationship between age and photograph preference? What is wrong with this study? [Chi-Square = 29.6, with 4 df: 𝑝 < 0.05]"
   ]
  },
  {
   "cell_type": "code",
   "execution_count": 30,
   "metadata": {},
   "outputs": [
    {
     "data": {
      "text/plain": [
       "29.603174603174605"
      ]
     },
     "execution_count": 30,
     "metadata": {},
     "output_type": "execute_result"
    }
   ],
   "source": [
    "#Ho: Child Age & adult photograph preference has no relation\n",
    "#H1: Child Age & adult photograph preference has relation\n",
    "Child5_6 = 18+22+20\n",
    "PhotoA = 18+2+20\n",
    "PhotoB = 22+28+10\n",
    "Child7_8 = 2+28+40\n",
    "PhotoC = 20+40+40\n",
    "Child9_10 = 20+10+40\n",
    "GrdTotal = 200\n",
    "#Exp Value = (row total * column total)/ Grand total\n",
    "ExpChid1 = (Child5_6*PhotoA)/GrdTotal\n",
    "ExpChid2 = (Child5_6*PhotoB)/GrdTotal\n",
    "ExpChid3 = (Child5_6*PhotoC)/GrdTotal\n",
    "ExpChid4 = (Child7_8*PhotoA)/GrdTotal\n",
    "ExpChid5 = (Child7_8*PhotoB)/GrdTotal\n",
    "ExpChid6 = (Child7_8*PhotoC)/GrdTotal\n",
    "ExpChid7 = (Child9_10*PhotoA)/GrdTotal\n",
    "ExpChid8 = (Child9_10*PhotoB)/GrdTotal\n",
    "ExpChid9 = (Child9_10*PhotoC)/GrdTotal\n",
    "\n",
    "\n",
    "ChiSqr56 = (18-ExpChid1)**2/ExpChid1 + (22-ExpChid2)**2/ExpChid2+ (20-ExpChid3)**2/ExpChid3\n",
    "ChiSqr78 = (2-ExpChid4)**2/ExpChid4 + (28-ExpChid5)**2/ExpChid5+ (40-ExpChid6)**2/ExpChid6\n",
    "ChiSqr910 = (20-ExpChid7)**2/ExpChid7 + (10-ExpChid8)**2/ExpChid8+ (40-ExpChid9)**2/ExpChid9\n",
    "\n",
    "ChiSqrChld = ChiSqr56 + ChiSqr78+ ChiSqr910\n",
    "ChiSqrChld"
   ]
  },
  {
   "cell_type": "markdown",
   "metadata": {},
   "source": [
    "As chi sqr value >5% we reject null hypothesis and Child Age & adult photograph preference has relation.\n",
    "what's wrong: On age 7-8 & 9-10 one of sample have less random sample than expected"
   ]
  },
  {
   "cell_type": "markdown",
   "metadata": {},
   "source": [
    "Problem Statement 21:\n",
    "A study of conformity using the Asch paradigm involved two conditions: one where one confederate supported the true judgement and another where no confederate gave the correct response.  Is there a significant difference between the \"support\" and \"no support\" conditions in the frequency with which individuals are likely to conform? [Chi-Square = 19.87, with 1 df: 𝑝 < 0.05]."
   ]
  },
  {
   "cell_type": "code",
   "execution_count": 31,
   "metadata": {},
   "outputs": [
    {
     "data": {
      "text/plain": [
       "19.868637110016422"
      ]
     },
     "execution_count": 31,
     "metadata": {},
     "output_type": "execute_result"
    }
   ],
   "source": [
    "#Ho: It confirms support\n",
    "#H1: It confirms no support\n",
    "TotCon = 18+40\n",
    "TotNCon = 32+10\n",
    "TotSup = 18+32\n",
    "TotNSup = 40+10\n",
    "TotGr = 100\n",
    "#Exp Value = (row total * column total)/ Grand total\n",
    "Exp1 = (TotCon*TotSup)/TotGr\n",
    "Exp2 = (TotCon*TotNSup)/TotGr\n",
    "Exp3 = (TotNCon*TotSup)/TotGr\n",
    "Exp4 = (TotNCon*TotNSup)/TotGr\n",
    "\n",
    "ChiSqrSupp = (18-Exp1)**2/Exp1 + (40-Exp2)**2/Exp2+ +(32-Exp3)**2/Exp3 + (10-Exp4)**2/Exp4\n",
    "ChiSqrSupp"
   ]
  },
  {
   "cell_type": "markdown",
   "metadata": {},
   "source": [
    "Problem Statement 22:\n",
    "We want to test whether short people differ with respect to their leadership qualities (Genghis Khan, Adolf Hitler and Napoleon were all stature-deprived, and how many midget MP's are there?) The following table shows the frequencies with which 43 short people and 52 tall people were categorized as \"leaders\", \"followers\" or as \"unclassifiable\". Is there a relationship between height and leadership qualities?\n",
    "[Chi-Square = 10.71, with 2 df: 𝑝 < 0.01]. "
   ]
  },
  {
   "cell_type": "code",
   "execution_count": 32,
   "metadata": {},
   "outputs": [
    {
     "data": {
      "text/plain": [
       "10.712198008709638"
      ]
     },
     "execution_count": 32,
     "metadata": {},
     "output_type": "execute_result"
    }
   ],
   "source": [
    "#Ho: Height & leadership have no connection\n",
    "#H1: Height & leadership have connection\n",
    "TotShort = 12+22+9\n",
    "TotTall = 32+14+6\n",
    "TotLead = 12+32\n",
    "TotFoll = 22+14\n",
    "TotUnclass = 9+6\n",
    "TotSamp = 95\n",
    "\n",
    "#Exp Value = (row total * column total)/ Grand total\n",
    "ExpH1 = (TotShort*TotLead)/TotSamp\n",
    "ExpH2 = (TotTall*TotLead)/TotSamp\n",
    "ExpH3 = (TotShort*TotFoll)/TotSamp\n",
    "ExpH4 = (TotTall*TotFoll)/TotSamp\n",
    "ExpH5 = (TotShort*TotUnclass)/TotSamp\n",
    "ExpH6 = (TotTall*TotUnclass)/TotSamp\n",
    "\n",
    "\n",
    "ChiSqrLead = (12-ExpH1)**2/ExpH1 +(32-ExpH2)**2/ExpH2 +(22-ExpH3)**2/ExpH3 + (14-ExpH4)**2/ExpH4+ (9-ExpH5)**2/ExpH5+(6-ExpH6)**2/ExpH6\n",
    "ChiSqrLead"
   ]
  },
  {
   "cell_type": "markdown",
   "metadata": {},
   "source": [
    "ChiSqr value higher than 0.01 or 1% so we reject null hypothesis. And so there is relationship b/w height & leadership"
   ]
  },
  {
   "cell_type": "markdown",
   "metadata": {},
   "source": [
    "Problem Statement 23:\n",
    "Each respondent in the Current Population Survey of March 1993 was classified as employed, unemployed, or outside the labor force. The results for men in California age 35-44 can be cross-tabulated by marital status, as follows: \n",
    "Men of different marital status seem to have different distributions of labor force status. Or is this just chance variation? (you may assume the table results from a simple random sample.)"
   ]
  },
  {
   "cell_type": "code",
   "execution_count": 33,
   "metadata": {},
   "outputs": [
    {
     "data": {
      "text/plain": [
       "31.613103194077983"
      ]
     },
     "execution_count": 33,
     "metadata": {},
     "output_type": "execute_result"
    }
   ],
   "source": [
    "#Ho: Job & marital status have no relation\n",
    "#H1: Job & marital status have no relation\n",
    "\n",
    "TotMarr = 679+63+42\n",
    "TotWDS = 103+10+18\n",
    "TotNMarr = 114+20+25\n",
    "TotEmp = 679+103+114\n",
    "TotUEmp = 63+10+20\n",
    "TotLBF = 42+18+25\n",
    "TotJ = TotMarr+TotWDS +TotNMarr\n",
    "\n",
    "#Exp Value = (row total * column total)/ Grand total\n",
    "ExpJ1 = (TotMarr*TotEmp)/TotJ\n",
    "ExpJ2 = (TotWDS*TotEmp)/TotJ\n",
    "ExpJ3 = (TotNMarr*TotEmp)/TotJ\n",
    "ExpJ4 = (TotMarr*TotUEmp)/TotJ\n",
    "ExpJ5 = (TotWDS*TotUEmp)/TotJ\n",
    "ExpJ6 = (TotNMarr*TotUEmp)/TotJ\n",
    "ExpJ7 = (TotMarr*TotLBF)/TotJ\n",
    "ExpJ8 = (TotWDS*TotLBF)/TotJ\n",
    "ExpJ9 = (TotNMarr*TotLBF)/TotJ\n",
    "\n",
    "ChisqrEmp = (679-ExpJ1)**2/ExpJ1 + (103-ExpJ2)**2/ExpJ2 + (114-ExpJ3)**2/ExpJ3\n",
    "ChisqrUEmp = (63-ExpJ4)**2/ExpJ4 + (10-ExpJ5)**2/ExpJ5 + (20-ExpJ6)**2/ExpJ6\n",
    "ChisqrLBF = (42-ExpJ7)**2/ExpJ7 + (18-ExpJ8)**2/ExpJ8 + (25-ExpJ9)**2/ExpJ9\n",
    "ChiSqrJob = ChisqrEmp+ChisqrUEmp+ChisqrLBF\n",
    "\n",
    "ChiSqrJob"
   ]
  },
  {
   "cell_type": "markdown",
   "metadata": {},
   "source": [
    "For significance level p<0.01 , df = 4 (3-1 * 3-1 ) value of chi sqr is much greater, so we reject null hypothesis. SO there is relation between job & marital status"
   ]
  }
 ],
 "metadata": {
  "kernelspec": {
   "display_name": "Python 3",
   "language": "python",
   "name": "python3"
  },
  "language_info": {
   "codemirror_mode": {
    "name": "ipython",
    "version": 3
   },
   "file_extension": ".py",
   "mimetype": "text/x-python",
   "name": "python",
   "nbconvert_exporter": "python",
   "pygments_lexer": "ipython3",
   "version": "3.7.3"
  }
 },
 "nbformat": 4,
 "nbformat_minor": 2
}
