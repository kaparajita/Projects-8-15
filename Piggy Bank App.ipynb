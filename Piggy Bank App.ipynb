{
 "cells": [
  {
   "cell_type": "code",
   "execution_count": 2,
   "metadata": {},
   "outputs": [],
   "source": [
    "import piggybank as pb"
   ]
  },
  {
   "cell_type": "code",
   "execution_count": 3,
   "metadata": {},
   "outputs": [],
   "source": [
    "piggbankobj = pb.Piggy_Bank()"
   ]
  },
  {
   "cell_type": "code",
   "execution_count": 5,
   "metadata": {},
   "outputs": [
    {
     "name": "stdout",
     "output_type": "stream",
     "text": [
      "--------------------------------Start--------------------------------------\n",
      "Start or End : Start\n",
      "Add, Withdraw or Check : Add\n",
      " \n",
      " \n",
      "Add amount : 1000\n",
      " \n",
      "After adding , your updated balance is 1000.0 rupees\n",
      "Start or End : Start\n",
      "Add, Withdraw or Check : Check\n",
      " \n",
      "Your current balance is 1000.0 rupees\n",
      "Start or End : End\n",
      " \n",
      "---------------------------Program Ended---------------------------\n",
      " \n"
     ]
    }
   ],
   "source": [
    "print(\"--------------------------------Start--------------------------------------\")\n",
    "while(True):\n",
    "    beginProgram = input(\"Start or End : \")\n",
    "    if beginProgram.strip() == 'Start':\n",
    "        transOperation = input(\"Add, Withdraw or Check : \")\n",
    "        if(transOperation.strip() == 'Add'):\n",
    "            print(\" \")\n",
    "            piggbankobj.AddMoney()\n",
    "            continue\n",
    "        elif((transOperation.strip() == 'Withdraw')):\n",
    "            print(\" \")\n",
    "            piggbankobj.WithdrawMoney()\n",
    "            continue\n",
    "        elif((transOperation.strip() == 'Check')):\n",
    "            piggbankobj.CheckCurrentAmount()\n",
    "            continue\n",
    "        else:\n",
    "            print(\" \")\n",
    "            print(\"Entered invalid input, try again\")\n",
    "            continue\n",
    "    elif beginProgram.strip() == \"End\" :\n",
    "        print(\" \")\n",
    "        print(\"---------------------------Program Ended---------------------------\")\n",
    "        print(\" \")\n",
    "        break\n",
    "    else:\n",
    "        print(\" \")\n",
    "        print(\"Entered invalid input\")\n",
    "        continue"
   ]
  },
  {
   "cell_type": "code",
   "execution_count": null,
   "metadata": {},
   "outputs": [],
   "source": [
    "#Piggy Bank Class.\n",
    "\n",
    "class Piggy_Bank():\n",
    "    money = 0\n",
    "    def AddMoney(self):\n",
    "        print(\" \")\n",
    "        inputAdd = float(input('Add amount : '))\n",
    "        print(\" \")\n",
    "        self.money = self.money + inputAdd;\n",
    "        print(\"After adding , your updated balance is \" + str(self.money) + \" rupees\")\n",
    "    \n",
    "    def WithdrawMoney(self):\n",
    "        amountDrawn = float(input('withdraw amount : '))\n",
    "        print(\" \")\n",
    "        self.money = self.money - amountDrawn;\n",
    "        print(\" \")\n",
    "        print(\"After withdrawing , balance amount is \" + str(self.money) + \" rupees\")  \n",
    "        \n",
    "    def CheckCurrentAmount(self):   \n",
    "        print(\" \")\n",
    "        print(\"Your current balance is \" + str(self.money) + \" rupees\")\n"
   ]
  }
 ],
 "metadata": {
  "kernelspec": {
   "display_name": "Python 3",
   "language": "python",
   "name": "python3"
  },
  "language_info": {
   "codemirror_mode": {
    "name": "ipython",
    "version": 3
   },
   "file_extension": ".py",
   "mimetype": "text/x-python",
   "name": "python",
   "nbconvert_exporter": "python",
   "pygments_lexer": "ipython3",
   "version": "3.7.3"
  }
 },
 "nbformat": 4,
 "nbformat_minor": 2
}
